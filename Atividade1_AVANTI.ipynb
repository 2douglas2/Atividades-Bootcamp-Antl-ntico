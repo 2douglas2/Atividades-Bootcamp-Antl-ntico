{
  "nbformat": 4,
  "nbformat_minor": 0,
  "metadata": {
    "colab": {
      "provenance": []
    },
    "kernelspec": {
      "name": "python3",
      "display_name": "Python 3"
    },
    "language_info": {
      "name": "python"
    }
  },
  "cells": [
    {
      "cell_type": "markdown",
      "source": [
        "# Atividade 01 BOOTCAMP Machine Learning\n",
        "### Atlântico AVANTI\n",
        "\n",
        "**Aluno:** Paulo Douglas Melo da Silva\n"
      ],
      "metadata": {
        "id": "sXSr1jcAFQpM"
      }
    },
    {
      "cell_type": "markdown",
      "source": [
        "1. Números primos em uma lista:"
      ],
      "metadata": {
        "id": "g_5tRitiCGsA"
      }
    },
    {
      "cell_type": "code",
      "execution_count": 1,
      "metadata": {
        "id": "JZMcl8KbB-t3",
        "colab": {
          "base_uri": "https://localhost:8080/"
        },
        "outputId": "89ebf73f-10fb-41e2-a8e4-1f8f5337b6d1"
      },
      "outputs": [
        {
          "output_type": "stream",
          "name": "stdout",
          "text": [
            "[7, 5, 13]\n"
          ]
        }
      ],
      "source": [
        "def numeros_primos(lista):\n",
        "    primos = []\n",
        "    for num in lista:\n",
        "        if num > 1:\n",
        "            for i in range(2, int(num ** 0.5) + 1):\n",
        "                if num % i == 0:\n",
        "                    break\n",
        "            else:\n",
        "                primos.append(num)\n",
        "    return primos\n",
        "\n",
        "l = [12, 7, 5, 8, 1, 13, 50]\n",
        "print(numeros_primos(l))"
      ]
    },
    {
      "cell_type": "markdown",
      "source": [
        "2. Elementos presentes em apenas uma das listas:"
      ],
      "metadata": {
        "id": "tGk42rAbCTrK"
      }
    },
    {
      "cell_type": "code",
      "source": [
        "def elementos_exclusivos(lista1, lista2):\n",
        "    exclusivos = list(set(lista1) ^ set(lista2))\n",
        "    return exclusivos\n",
        "\n",
        "l1 = [0,2,4,6,8,10,12]\n",
        "l2 = [0,3,6,9,12,15]\n",
        "\n",
        "print(elementos_exclusivos(l1,l2))"
      ],
      "metadata": {
        "id": "yK2BExE-CXwP",
        "colab": {
          "base_uri": "https://localhost:8080/"
        },
        "outputId": "1bcb813c-05da-4f16-a858-1746afe98bfc"
      },
      "execution_count": 2,
      "outputs": [
        {
          "output_type": "stream",
          "name": "stdout",
          "text": [
            "[2, 3, 4, 8, 9, 10, 15]\n"
          ]
        }
      ]
    },
    {
      "cell_type": "markdown",
      "source": [
        "3. Segundo maior valor em uma lista:"
      ],
      "metadata": {
        "id": "9cD9W-MnCcYU"
      }
    },
    {
      "cell_type": "code",
      "source": [
        "def segundo_maior(lista):\n",
        "    if len(set(lista)) < 2:\n",
        "        return \"Não há segundo maior valor.\"\n",
        "    else:\n",
        "        lista_ordenada = sorted(set(lista), reverse=True)\n",
        "        return lista_ordenada[1]\n",
        "\n",
        "l = [4,6,1,6,4,3,7,8,9]\n",
        "print(segundo_maior(l))"
      ],
      "metadata": {
        "id": "Y-ZAEwsICdoY",
        "colab": {
          "base_uri": "https://localhost:8080/"
        },
        "outputId": "0e9cce33-4d84-4d3c-a505-cf5f357c7a28"
      },
      "execution_count": 3,
      "outputs": [
        {
          "output_type": "stream",
          "name": "stdout",
          "text": [
            "8\n"
          ]
        }
      ]
    },
    {
      "cell_type": "markdown",
      "source": [
        "4. Ordenar lista de tuplas pelo nome em ordem alfabética:"
      ],
      "metadata": {
        "id": "IhBc76ZrCnvd"
      }
    },
    {
      "cell_type": "code",
      "source": [
        "def ordenar_por_nome(lista_tuplas):\n",
        "    return sorted(lista_tuplas, key=lambda x: x[0])\n",
        "\n",
        "l = [('Alice',25),('Pedro', 14),('Mateus', 70),('Kevem',3),('Carlos',67)]\n",
        "print(ordenar_por_nome(l))"
      ],
      "metadata": {
        "id": "FkESLfhDCr-t",
        "colab": {
          "base_uri": "https://localhost:8080/"
        },
        "outputId": "24fe7927-fb8f-4f7a-a909-62de2994b1d1"
      },
      "execution_count": 4,
      "outputs": [
        {
          "output_type": "stream",
          "name": "stdout",
          "text": [
            "[('Alice', 25), ('Carlos', 67), ('Kevem', 3), ('Mateus', 70), ('Pedro', 14)]\n"
          ]
        }
      ]
    },
    {
      "cell_type": "markdown",
      "source": [
        "5. Encontrar o maior e menor número em uma lista em uma única passagem:"
      ],
      "metadata": {
        "id": "NoiBAO-5Cuqn"
      }
    },
    {
      "cell_type": "code",
      "source": [
        "def maior_menor(lista):\n",
        "    if not lista:\n",
        "        return None, None\n",
        "\n",
        "    maior = menor = lista[0]\n",
        "\n",
        "    for num in lista:\n",
        "        if num > maior:\n",
        "            maior = num\n",
        "        elif num < menor:\n",
        "            menor = num\n",
        "\n",
        "    return maior, menor\n",
        "\n",
        "l = [4,6,1,6,4,3,7,8,9]\n",
        "M, m = maior_menor(l)\n",
        "print(f\"Maior: {M}\")\n",
        "print(f\"Menor: {m}\")"
      ],
      "metadata": {
        "id": "WxCNd2AgC3Y0",
        "colab": {
          "base_uri": "https://localhost:8080/"
        },
        "outputId": "8dde9623-688f-490d-adc4-1fc24f86767f"
      },
      "execution_count": 5,
      "outputs": [
        {
          "output_type": "stream",
          "name": "stdout",
          "text": [
            "Maior: 9\n",
            "Menor: 1\n"
          ]
        }
      ]
    },
    {
      "cell_type": "markdown",
      "source": [
        "6. Leitura de arquivo CSV em um DataFrame usando pandas:"
      ],
      "metadata": {
        "id": "6guEwkOqDKHY"
      }
    },
    {
      "cell_type": "code",
      "source": [
        "import pandas as pd\n",
        "\n",
        "dataframe = pd.read_csv('dados.csv')\n",
        "\n",
        "print(dataframe.head())"
      ],
      "metadata": {
        "id": "RPsV31geDOhL",
        "colab": {
          "base_uri": "https://localhost:8080/"
        },
        "outputId": "2dd7db51-3e34-4684-fb21-855ddde38c23"
      },
      "execution_count": 6,
      "outputs": [
        {
          "output_type": "stream",
          "name": "stdout",
          "text": [
            "          Entity Code  Year  Electricity from wind (TWh)  \\\n",
            "0  ASEAN (Ember)  NaN  2000                          0.0   \n",
            "1  ASEAN (Ember)  NaN  2001                          0.0   \n",
            "2  ASEAN (Ember)  NaN  2002                          0.0   \n",
            "3  ASEAN (Ember)  NaN  2003                          0.0   \n",
            "4  ASEAN (Ember)  NaN  2004                          0.0   \n",
            "\n",
            "   Electricity from hydro (TWh)  Electricity from solar (TWh)  \\\n",
            "0                         50.37                           0.0   \n",
            "1                         54.26                           0.0   \n",
            "2                         53.32                           0.0   \n",
            "3                         53.28                           0.0   \n",
            "4                         52.88                           0.0   \n",
            "\n",
            "   Other renewables including bioenergy (TWh)  \n",
            "0                                       22.53  \n",
            "1                                       22.42  \n",
            "2                                       22.67  \n",
            "3                                       22.43  \n",
            "4                                       24.14  \n"
          ]
        }
      ]
    },
    {
      "cell_type": "markdown",
      "source": [
        "7. Selecionar uma coluna específica e filtrar linhas com base em uma condição:"
      ],
      "metadata": {
        "id": "uNXtNADMDWpI"
      }
    },
    {
      "cell_type": "code",
      "source": [
        "coluna_especifica = dataframe['Year']\n",
        "print(coluna_especifica.head())\n",
        "filtro = dataframe[dataframe['Year'] > 2005]\n",
        "print(filtro.head())"
      ],
      "metadata": {
        "id": "EqDb6JffDXvv",
        "colab": {
          "base_uri": "https://localhost:8080/"
        },
        "outputId": "17e1c3a1-0b4b-4115-ef89-4cda78eeb6ee"
      },
      "execution_count": 7,
      "outputs": [
        {
          "output_type": "stream",
          "name": "stdout",
          "text": [
            "0    2000\n",
            "1    2001\n",
            "2    2002\n",
            "3    2003\n",
            "4    2004\n",
            "Name: Year, dtype: int64\n",
            "           Entity Code  Year  Electricity from wind (TWh)  \\\n",
            "6   ASEAN (Ember)  NaN  2006                         0.05   \n",
            "7   ASEAN (Ember)  NaN  2007                         0.06   \n",
            "8   ASEAN (Ember)  NaN  2008                         0.06   \n",
            "9   ASEAN (Ember)  NaN  2009                         0.07   \n",
            "10  ASEAN (Ember)  NaN  2010                         0.10   \n",
            "\n",
            "    Electricity from hydro (TWh)  Electricity from solar (TWh)  \\\n",
            "6                          60.38                          0.00   \n",
            "7                          63.13                          0.00   \n",
            "8                          69.80                          0.00   \n",
            "9                          73.52                          0.01   \n",
            "10                         78.85                          0.03   \n",
            "\n",
            "    Other renewables including bioenergy (TWh)  \n",
            "6                                        24.89  \n",
            "7                                        26.68  \n",
            "8                                        28.75  \n",
            "9                                        29.73  \n",
            "10                                       32.34  \n"
          ]
        }
      ]
    },
    {
      "cell_type": "markdown",
      "source": [
        "8. Lidar com valores ausentes (NaN) em um DataFrame:"
      ],
      "metadata": {
        "id": "OyQDumycDkMR"
      }
    },
    {
      "cell_type": "code",
      "source": [
        "# Identificar valores ausentes\n",
        "valores_ausentes = dataframe.isna()\n",
        "print(valores_ausentes.head())\n",
        "# Preencher valores ausentes com um valor específico\n",
        "dataframe_preenchido = dataframe.fillna(0)\n",
        "print(dataframe_preenchido.head())\n",
        "# Remover linhas com valores ausentes\n",
        "dataframe_sem_ausentes = dataframe.dropna()\n",
        "print(dataframe_sem_ausentes.head())\n",
        "# Preencher valores ausentes usando interpolação\n",
        "dataframe_interpolado = dataframe.interpolate()\n",
        "print(dataframe_interpolado.head())"
      ],
      "metadata": {
        "id": "7Aa9zA9CDww0",
        "colab": {
          "base_uri": "https://localhost:8080/"
        },
        "outputId": "d5ab4691-5198-428c-e864-582b5abbb237"
      },
      "execution_count": 8,
      "outputs": [
        {
          "output_type": "stream",
          "name": "stdout",
          "text": [
            "   Entity  Code   Year  Electricity from wind (TWh)  \\\n",
            "0   False  True  False                        False   \n",
            "1   False  True  False                        False   \n",
            "2   False  True  False                        False   \n",
            "3   False  True  False                        False   \n",
            "4   False  True  False                        False   \n",
            "\n",
            "   Electricity from hydro (TWh)  Electricity from solar (TWh)  \\\n",
            "0                         False                         False   \n",
            "1                         False                         False   \n",
            "2                         False                         False   \n",
            "3                         False                         False   \n",
            "4                         False                         False   \n",
            "\n",
            "   Other renewables including bioenergy (TWh)  \n",
            "0                                       False  \n",
            "1                                       False  \n",
            "2                                       False  \n",
            "3                                       False  \n",
            "4                                       False  \n",
            "          Entity Code  Year  Electricity from wind (TWh)  \\\n",
            "0  ASEAN (Ember)    0  2000                          0.0   \n",
            "1  ASEAN (Ember)    0  2001                          0.0   \n",
            "2  ASEAN (Ember)    0  2002                          0.0   \n",
            "3  ASEAN (Ember)    0  2003                          0.0   \n",
            "4  ASEAN (Ember)    0  2004                          0.0   \n",
            "\n",
            "   Electricity from hydro (TWh)  Electricity from solar (TWh)  \\\n",
            "0                         50.37                           0.0   \n",
            "1                         54.26                           0.0   \n",
            "2                         53.32                           0.0   \n",
            "3                         53.28                           0.0   \n",
            "4                         52.88                           0.0   \n",
            "\n",
            "   Other renewables including bioenergy (TWh)  \n",
            "0                                       22.53  \n",
            "1                                       22.42  \n",
            "2                                       22.67  \n",
            "3                                       22.43  \n",
            "4                                       24.14  \n",
            "         Entity Code  Year  Electricity from wind (TWh)  \\\n",
            "23  Afghanistan  AFG  2000                          0.0   \n",
            "24  Afghanistan  AFG  2001                          0.0   \n",
            "25  Afghanistan  AFG  2002                          0.0   \n",
            "26  Afghanistan  AFG  2003                          0.0   \n",
            "27  Afghanistan  AFG  2004                          0.0   \n",
            "\n",
            "    Electricity from hydro (TWh)  Electricity from solar (TWh)  \\\n",
            "23                          0.31                           0.0   \n",
            "24                          0.50                           0.0   \n",
            "25                          0.56                           0.0   \n",
            "26                          0.63                           0.0   \n",
            "27                          0.56                           0.0   \n",
            "\n",
            "    Other renewables including bioenergy (TWh)  \n",
            "23                                         0.0  \n",
            "24                                         0.0  \n",
            "25                                         0.0  \n",
            "26                                         0.0  \n",
            "27                                         0.0  \n",
            "          Entity Code  Year  Electricity from wind (TWh)  \\\n",
            "0  ASEAN (Ember)  NaN  2000                          0.0   \n",
            "1  ASEAN (Ember)  NaN  2001                          0.0   \n",
            "2  ASEAN (Ember)  NaN  2002                          0.0   \n",
            "3  ASEAN (Ember)  NaN  2003                          0.0   \n",
            "4  ASEAN (Ember)  NaN  2004                          0.0   \n",
            "\n",
            "   Electricity from hydro (TWh)  Electricity from solar (TWh)  \\\n",
            "0                         50.37                           0.0   \n",
            "1                         54.26                           0.0   \n",
            "2                         53.32                           0.0   \n",
            "3                         53.28                           0.0   \n",
            "4                         52.88                           0.0   \n",
            "\n",
            "   Other renewables including bioenergy (TWh)  \n",
            "0                                       22.53  \n",
            "1                                       22.42  \n",
            "2                                       22.67  \n",
            "3                                       22.43  \n",
            "4                                       24.14  \n"
          ]
        }
      ]
    },
    {
      "cell_type": "markdown",
      "source": [
        "9. Complete o código"
      ],
      "metadata": {
        "id": "a3RO2SPgMngL"
      }
    },
    {
      "cell_type": "code",
      "source": [
        "import matplotlib.pyplot as plt\n",
        "import numpy as np\n",
        "\n",
        "fig, axs = plt.subplots(ncols=2, nrows=2, figsize=(5.5, 3.5), layout=\"constrained\")\n",
        "\n",
        "for row in range(2):\n",
        "    for col in range(2):\n",
        "        axs[row, col].annotate(f'axs [{row}, {col}]', (0.5, 0.5),\n",
        "                               transform=axs[row, col].transAxes,\n",
        "                               ha='center', va='center',\n",
        "                               fontsize=18,\n",
        "                               color='darkgrey')\n",
        "\n",
        "fig.suptitle('plt.subplots()')\n",
        "plt.show()"
      ],
      "metadata": {
        "colab": {
          "base_uri": "https://localhost:8080/",
          "height": 378
        },
        "id": "dKlpF8ZHD3Bm",
        "outputId": "7c256e5e-640d-4ad6-bf12-0a7da3b2715f"
      },
      "execution_count": 9,
      "outputs": [
        {
          "output_type": "display_data",
          "data": {
            "text/plain": [
              "<Figure size 550x350 with 4 Axes>"
            ],
            "image/png": "[encoded data removed]"
          },
          "metadata": {}
        }
      ]
    },
    {
      "cell_type": "markdown",
      "source": [
        "10. Complete o código"
      ],
      "metadata": {
        "id": "xQ7hDajPMupt"
      }
    },
    {
      "cell_type": "code",
      "source": [
        "import numpy as np\n",
        "import matplotlib as mpl\n",
        "import matplotlib.pyplot as plt\n",
        "\n",
        "x = np.linspace(-2 * np.pi, 2 * np.pi, 100)\n",
        "y = np.sin(x)\n",
        "\n",
        "fig, ax = plt.subplots()\n",
        "ax.plot(x, y)"
      ],
      "metadata": {
        "id": "CDhgrjfwEG1x",
        "outputId": "a4e56df4-b37a-4ac2-c2e0-efca3f39e064",
        "colab": {
          "base_uri": "https://localhost:8080/",
          "height": 447
        }
      },
      "execution_count": 10,
      "outputs": [
        {
          "output_type": "execute_result",
          "data": {
            "text/plain": [
              "[<matplotlib.lines.Line2D at 0x7a51db8eca30>]"
            ]
          },
          "metadata": {},
          "execution_count": 10
        },
        {
          "output_type": "display_data",
          "data": {
            "text/plain": [
              "<Figure size 640x480 with 1 Axes>"
            ],
            "image/png": "[encoded data removed]"
          },
          "metadata": {}
        }
      ]
    }
  ]
}